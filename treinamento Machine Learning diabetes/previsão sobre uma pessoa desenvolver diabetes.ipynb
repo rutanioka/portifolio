{
 "cells": [
  {
   "cell_type": "markdown",
   "id": "42a894c8",
   "metadata": {},
   "source": [
    "#coletar e preparar os dados"
   ]
  },
  {
   "cell_type": "code",
   "execution_count": 1,
   "id": "bacf1cc1",
   "metadata": {},
   "outputs": [],
   "source": [
    "#import das libs\n",
    "import pandas as pd\n",
    "import matplotlib.pyplot as plt\n",
    "import numpy as np\n",
    "%matplotlib inline"
   ]
  },
  {
   "cell_type": "code",
   "execution_count": 2,
   "id": "8927aae7",
   "metadata": {},
   "outputs": [],
   "source": [
    "df = pd.read_csv('pima-data.csv')"
   ]
  },
  {
   "cell_type": "code",
   "execution_count": 3,
   "id": "d582205b",
   "metadata": {},
   "outputs": [
    {
     "data": {
      "text/plain": [
       "(768, 10)"
      ]
     },
     "execution_count": 3,
     "metadata": {},
     "output_type": "execute_result"
    }
   ],
   "source": [
    "df.shape"
   ]
  },
  {
   "cell_type": "code",
   "execution_count": 17,
   "id": "de09cbf0",
   "metadata": {},
   "outputs": [
    {
     "data": {
      "text/html": [
       "<div>\n",
       "<style scoped>\n",
       "    .dataframe tbody tr th:only-of-type {\n",
       "        vertical-align: middle;\n",
       "    }\n",
       "\n",
       "    .dataframe tbody tr th {\n",
       "        vertical-align: top;\n",
       "    }\n",
       "\n",
       "    .dataframe thead th {\n",
       "        text-align: right;\n",
       "    }\n",
       "</style>\n",
       "<table border=\"1\" class=\"dataframe\">\n",
       "  <thead>\n",
       "    <tr style=\"text-align: right;\">\n",
       "      <th></th>\n",
       "      <th>num_preg</th>\n",
       "      <th>glucose_conc</th>\n",
       "      <th>diastolic_bp</th>\n",
       "      <th>thickness</th>\n",
       "      <th>insulin</th>\n",
       "      <th>bmi</th>\n",
       "      <th>diab_pred</th>\n",
       "      <th>age</th>\n",
       "      <th>skin</th>\n",
       "      <th>diabetes</th>\n",
       "    </tr>\n",
       "  </thead>\n",
       "  <tbody>\n",
       "    <tr>\n",
       "      <th>0</th>\n",
       "      <td>6</td>\n",
       "      <td>148</td>\n",
       "      <td>72</td>\n",
       "      <td>35</td>\n",
       "      <td>0</td>\n",
       "      <td>33.6</td>\n",
       "      <td>0.627</td>\n",
       "      <td>50</td>\n",
       "      <td>1.3780</td>\n",
       "      <td>1</td>\n",
       "    </tr>\n",
       "    <tr>\n",
       "      <th>1</th>\n",
       "      <td>1</td>\n",
       "      <td>85</td>\n",
       "      <td>66</td>\n",
       "      <td>29</td>\n",
       "      <td>0</td>\n",
       "      <td>26.6</td>\n",
       "      <td>0.351</td>\n",
       "      <td>31</td>\n",
       "      <td>1.1426</td>\n",
       "      <td>0</td>\n",
       "    </tr>\n",
       "    <tr>\n",
       "      <th>2</th>\n",
       "      <td>8</td>\n",
       "      <td>183</td>\n",
       "      <td>64</td>\n",
       "      <td>0</td>\n",
       "      <td>0</td>\n",
       "      <td>23.3</td>\n",
       "      <td>0.672</td>\n",
       "      <td>32</td>\n",
       "      <td>0.0000</td>\n",
       "      <td>1</td>\n",
       "    </tr>\n",
       "    <tr>\n",
       "      <th>3</th>\n",
       "      <td>1</td>\n",
       "      <td>89</td>\n",
       "      <td>66</td>\n",
       "      <td>23</td>\n",
       "      <td>94</td>\n",
       "      <td>28.1</td>\n",
       "      <td>0.167</td>\n",
       "      <td>21</td>\n",
       "      <td>0.9062</td>\n",
       "      <td>0</td>\n",
       "    </tr>\n",
       "    <tr>\n",
       "      <th>4</th>\n",
       "      <td>0</td>\n",
       "      <td>137</td>\n",
       "      <td>40</td>\n",
       "      <td>35</td>\n",
       "      <td>168</td>\n",
       "      <td>43.1</td>\n",
       "      <td>2.288</td>\n",
       "      <td>33</td>\n",
       "      <td>1.3790</td>\n",
       "      <td>1</td>\n",
       "    </tr>\n",
       "  </tbody>\n",
       "</table>\n",
       "</div>"
      ],
      "text/plain": [
       "   num_preg  glucose_conc  diastolic_bp  thickness  insulin   bmi  diab_pred  \\\n",
       "0         6           148            72         35        0  33.6      0.627   \n",
       "1         1            85            66         29        0  26.6      0.351   \n",
       "2         8           183            64          0        0  23.3      0.672   \n",
       "3         1            89            66         23       94  28.1      0.167   \n",
       "4         0           137            40         35      168  43.1      2.288   \n",
       "\n",
       "   age    skin  diabetes  \n",
       "0   50  1.3780         1  \n",
       "1   31  1.1426         0  \n",
       "2   32  0.0000         1  \n",
       "3   21  0.9062         0  \n",
       "4   33  1.3790         1  "
      ]
     },
     "execution_count": 17,
     "metadata": {},
     "output_type": "execute_result"
    }
   ],
   "source": [
    "df.head()"
   ]
  },
  {
   "cell_type": "code",
   "execution_count": 6,
   "id": "c9fd88cc",
   "metadata": {},
   "outputs": [
    {
     "data": {
      "text/html": [
       "<div>\n",
       "<style scoped>\n",
       "    .dataframe tbody tr th:only-of-type {\n",
       "        vertical-align: middle;\n",
       "    }\n",
       "\n",
       "    .dataframe tbody tr th {\n",
       "        vertical-align: top;\n",
       "    }\n",
       "\n",
       "    .dataframe thead th {\n",
       "        text-align: right;\n",
       "    }\n",
       "</style>\n",
       "<table border=\"1\" class=\"dataframe\">\n",
       "  <thead>\n",
       "    <tr style=\"text-align: right;\">\n",
       "      <th></th>\n",
       "      <th>num_preg</th>\n",
       "      <th>glucose_conc</th>\n",
       "      <th>diastolic_bp</th>\n",
       "      <th>thickness</th>\n",
       "      <th>insulin</th>\n",
       "      <th>bmi</th>\n",
       "      <th>diab_pred</th>\n",
       "      <th>age</th>\n",
       "      <th>skin</th>\n",
       "      <th>diabetes</th>\n",
       "    </tr>\n",
       "  </thead>\n",
       "  <tbody>\n",
       "    <tr>\n",
       "      <th>763</th>\n",
       "      <td>10</td>\n",
       "      <td>101</td>\n",
       "      <td>76</td>\n",
       "      <td>48</td>\n",
       "      <td>180</td>\n",
       "      <td>32.9</td>\n",
       "      <td>0.171</td>\n",
       "      <td>63</td>\n",
       "      <td>1.8912</td>\n",
       "      <td>False</td>\n",
       "    </tr>\n",
       "    <tr>\n",
       "      <th>764</th>\n",
       "      <td>2</td>\n",
       "      <td>122</td>\n",
       "      <td>70</td>\n",
       "      <td>27</td>\n",
       "      <td>0</td>\n",
       "      <td>36.8</td>\n",
       "      <td>0.340</td>\n",
       "      <td>27</td>\n",
       "      <td>1.0638</td>\n",
       "      <td>False</td>\n",
       "    </tr>\n",
       "    <tr>\n",
       "      <th>765</th>\n",
       "      <td>5</td>\n",
       "      <td>121</td>\n",
       "      <td>72</td>\n",
       "      <td>23</td>\n",
       "      <td>112</td>\n",
       "      <td>26.2</td>\n",
       "      <td>0.245</td>\n",
       "      <td>30</td>\n",
       "      <td>0.9062</td>\n",
       "      <td>False</td>\n",
       "    </tr>\n",
       "    <tr>\n",
       "      <th>766</th>\n",
       "      <td>1</td>\n",
       "      <td>126</td>\n",
       "      <td>60</td>\n",
       "      <td>0</td>\n",
       "      <td>0</td>\n",
       "      <td>30.1</td>\n",
       "      <td>0.349</td>\n",
       "      <td>47</td>\n",
       "      <td>0.0000</td>\n",
       "      <td>True</td>\n",
       "    </tr>\n",
       "    <tr>\n",
       "      <th>767</th>\n",
       "      <td>1</td>\n",
       "      <td>93</td>\n",
       "      <td>70</td>\n",
       "      <td>31</td>\n",
       "      <td>0</td>\n",
       "      <td>30.4</td>\n",
       "      <td>0.315</td>\n",
       "      <td>23</td>\n",
       "      <td>1.2214</td>\n",
       "      <td>False</td>\n",
       "    </tr>\n",
       "  </tbody>\n",
       "</table>\n",
       "</div>"
      ],
      "text/plain": [
       "     num_preg  glucose_conc  diastolic_bp  thickness  insulin   bmi  \\\n",
       "763        10           101            76         48      180  32.9   \n",
       "764         2           122            70         27        0  36.8   \n",
       "765         5           121            72         23      112  26.2   \n",
       "766         1           126            60          0        0  30.1   \n",
       "767         1            93            70         31        0  30.4   \n",
       "\n",
       "     diab_pred  age    skin  diabetes  \n",
       "763      0.171   63  1.8912     False  \n",
       "764      0.340   27  1.0638     False  \n",
       "765      0.245   30  0.9062     False  \n",
       "766      0.349   47  0.0000      True  \n",
       "767      0.315   23  1.2214     False  "
      ]
     },
     "execution_count": 6,
     "metadata": {},
     "output_type": "execute_result"
    }
   ],
   "source": [
    "df.tail(5)"
   ]
  },
  {
   "cell_type": "code",
   "execution_count": 8,
   "id": "b9d3b56c",
   "metadata": {},
   "outputs": [
    {
     "data": {
      "text/plain": [
       "False"
      ]
     },
     "execution_count": 8,
     "metadata": {},
     "output_type": "execute_result"
    }
   ],
   "source": [
    "#verificar se há valores nulos em quaisquer celula\n",
    "df.isnull().values.any()"
   ]
  },
  {
   "cell_type": "code",
   "execution_count": 11,
   "id": "706da634",
   "metadata": {},
   "outputs": [],
   "source": [
    "#cria função para ver a correlação entre as variáveis\n",
    "def plot_corr(df,size=10):\n",
    "    corr = df.corr()\n",
    "    fig,ax = plt.subplots(figsize = (size,size))\n",
    "    ax.matshow(corr)\n",
    "    plt.xticks(range(len(corr.columns)),corr.columns)\n",
    "    plt.yticks(range(len(corr.columns)),corr.columns)"
   ]
  },
  {
   "cell_type": "code",
   "execution_count": 12,
   "id": "5b918e0e",
   "metadata": {},
   "outputs": [
    {
     "data": {
      "image/png": "[encoded data removed]",
      "text/plain": [
       "<Figure size 720x720 with 1 Axes>"
      ]
     },
     "metadata": {
      "needs_background": "light"
     },
     "output_type": "display_data"
    }
   ],
   "source": [
    "plot_corr(df)"
   ]
  },
  {
   "cell_type": "code",
   "execution_count": 14,
   "id": "8f770962",
   "metadata": {},
   "outputs": [
    {
     "data": {
      "text/html": [
       "<div>\n",
       "<style scoped>\n",
       "    .dataframe tbody tr th:only-of-type {\n",
       "        vertical-align: middle;\n",
       "    }\n",
       "\n",
       "    .dataframe tbody tr th {\n",
       "        vertical-align: top;\n",
       "    }\n",
       "\n",
       "    .dataframe thead th {\n",
       "        text-align: right;\n",
       "    }\n",
       "</style>\n",
       "<table border=\"1\" class=\"dataframe\">\n",
       "  <thead>\n",
       "    <tr style=\"text-align: right;\">\n",
       "      <th></th>\n",
       "      <th>num_preg</th>\n",
       "      <th>glucose_conc</th>\n",
       "      <th>diastolic_bp</th>\n",
       "      <th>thickness</th>\n",
       "      <th>insulin</th>\n",
       "      <th>bmi</th>\n",
       "      <th>diab_pred</th>\n",
       "      <th>age</th>\n",
       "      <th>skin</th>\n",
       "      <th>diabetes</th>\n",
       "    </tr>\n",
       "  </thead>\n",
       "  <tbody>\n",
       "    <tr>\n",
       "      <th>num_preg</th>\n",
       "      <td>1.000000</td>\n",
       "      <td>0.129459</td>\n",
       "      <td>0.141282</td>\n",
       "      <td>-0.081672</td>\n",
       "      <td>-0.073535</td>\n",
       "      <td>0.017683</td>\n",
       "      <td>-0.033523</td>\n",
       "      <td>0.544341</td>\n",
       "      <td>-0.081673</td>\n",
       "      <td>0.221898</td>\n",
       "    </tr>\n",
       "    <tr>\n",
       "      <th>glucose_conc</th>\n",
       "      <td>0.129459</td>\n",
       "      <td>1.000000</td>\n",
       "      <td>0.152590</td>\n",
       "      <td>0.057328</td>\n",
       "      <td>0.331357</td>\n",
       "      <td>0.221071</td>\n",
       "      <td>0.137337</td>\n",
       "      <td>0.263514</td>\n",
       "      <td>0.057326</td>\n",
       "      <td>0.466581</td>\n",
       "    </tr>\n",
       "    <tr>\n",
       "      <th>diastolic_bp</th>\n",
       "      <td>0.141282</td>\n",
       "      <td>0.152590</td>\n",
       "      <td>1.000000</td>\n",
       "      <td>0.207371</td>\n",
       "      <td>0.088933</td>\n",
       "      <td>0.281805</td>\n",
       "      <td>0.041265</td>\n",
       "      <td>0.239528</td>\n",
       "      <td>0.207371</td>\n",
       "      <td>0.065068</td>\n",
       "    </tr>\n",
       "    <tr>\n",
       "      <th>thickness</th>\n",
       "      <td>-0.081672</td>\n",
       "      <td>0.057328</td>\n",
       "      <td>0.207371</td>\n",
       "      <td>1.000000</td>\n",
       "      <td>0.436783</td>\n",
       "      <td>0.392573</td>\n",
       "      <td>0.183928</td>\n",
       "      <td>-0.113970</td>\n",
       "      <td>1.000000</td>\n",
       "      <td>0.074752</td>\n",
       "    </tr>\n",
       "    <tr>\n",
       "      <th>insulin</th>\n",
       "      <td>-0.073535</td>\n",
       "      <td>0.331357</td>\n",
       "      <td>0.088933</td>\n",
       "      <td>0.436783</td>\n",
       "      <td>1.000000</td>\n",
       "      <td>0.197859</td>\n",
       "      <td>0.185071</td>\n",
       "      <td>-0.042163</td>\n",
       "      <td>0.436785</td>\n",
       "      <td>0.130548</td>\n",
       "    </tr>\n",
       "    <tr>\n",
       "      <th>bmi</th>\n",
       "      <td>0.017683</td>\n",
       "      <td>0.221071</td>\n",
       "      <td>0.281805</td>\n",
       "      <td>0.392573</td>\n",
       "      <td>0.197859</td>\n",
       "      <td>1.000000</td>\n",
       "      <td>0.140647</td>\n",
       "      <td>0.036242</td>\n",
       "      <td>0.392574</td>\n",
       "      <td>0.292695</td>\n",
       "    </tr>\n",
       "    <tr>\n",
       "      <th>diab_pred</th>\n",
       "      <td>-0.033523</td>\n",
       "      <td>0.137337</td>\n",
       "      <td>0.041265</td>\n",
       "      <td>0.183928</td>\n",
       "      <td>0.185071</td>\n",
       "      <td>0.140647</td>\n",
       "      <td>1.000000</td>\n",
       "      <td>0.033561</td>\n",
       "      <td>0.183927</td>\n",
       "      <td>0.173844</td>\n",
       "    </tr>\n",
       "    <tr>\n",
       "      <th>age</th>\n",
       "      <td>0.544341</td>\n",
       "      <td>0.263514</td>\n",
       "      <td>0.239528</td>\n",
       "      <td>-0.113970</td>\n",
       "      <td>-0.042163</td>\n",
       "      <td>0.036242</td>\n",
       "      <td>0.033561</td>\n",
       "      <td>1.000000</td>\n",
       "      <td>-0.113973</td>\n",
       "      <td>0.238356</td>\n",
       "    </tr>\n",
       "    <tr>\n",
       "      <th>skin</th>\n",
       "      <td>-0.081673</td>\n",
       "      <td>0.057326</td>\n",
       "      <td>0.207371</td>\n",
       "      <td>1.000000</td>\n",
       "      <td>0.436785</td>\n",
       "      <td>0.392574</td>\n",
       "      <td>0.183927</td>\n",
       "      <td>-0.113973</td>\n",
       "      <td>1.000000</td>\n",
       "      <td>0.074750</td>\n",
       "    </tr>\n",
       "    <tr>\n",
       "      <th>diabetes</th>\n",
       "      <td>0.221898</td>\n",
       "      <td>0.466581</td>\n",
       "      <td>0.065068</td>\n",
       "      <td>0.074752</td>\n",
       "      <td>0.130548</td>\n",
       "      <td>0.292695</td>\n",
       "      <td>0.173844</td>\n",
       "      <td>0.238356</td>\n",
       "      <td>0.074750</td>\n",
       "      <td>1.000000</td>\n",
       "    </tr>\n",
       "  </tbody>\n",
       "</table>\n",
       "</div>"
      ],
      "text/plain": [
       "              num_preg  glucose_conc  diastolic_bp  thickness   insulin  \\\n",
       "num_preg      1.000000      0.129459      0.141282  -0.081672 -0.073535   \n",
       "glucose_conc  0.129459      1.000000      0.152590   0.057328  0.331357   \n",
       "diastolic_bp  0.141282      0.152590      1.000000   0.207371  0.088933   \n",
       "thickness    -0.081672      0.057328      0.207371   1.000000  0.436783   \n",
       "insulin      -0.073535      0.331357      0.088933   0.436783  1.000000   \n",
       "bmi           0.017683      0.221071      0.281805   0.392573  0.197859   \n",
       "diab_pred    -0.033523      0.137337      0.041265   0.183928  0.185071   \n",
       "age           0.544341      0.263514      0.239528  -0.113970 -0.042163   \n",
       "skin         -0.081673      0.057326      0.207371   1.000000  0.436785   \n",
       "diabetes      0.221898      0.466581      0.065068   0.074752  0.130548   \n",
       "\n",
       "                   bmi  diab_pred       age      skin  diabetes  \n",
       "num_preg      0.017683  -0.033523  0.544341 -0.081673  0.221898  \n",
       "glucose_conc  0.221071   0.137337  0.263514  0.057326  0.466581  \n",
       "diastolic_bp  0.281805   0.041265  0.239528  0.207371  0.065068  \n",
       "thickness     0.392573   0.183928 -0.113970  1.000000  0.074752  \n",
       "insulin       0.197859   0.185071 -0.042163  0.436785  0.130548  \n",
       "bmi           1.000000   0.140647  0.036242  0.392574  0.292695  \n",
       "diab_pred     0.140647   1.000000  0.033561  0.183927  0.173844  \n",
       "age           0.036242   0.033561  1.000000 -0.113973  0.238356  \n",
       "skin          0.392574   0.183927 -0.113973  1.000000  0.074750  \n",
       "diabetes      0.292695   0.173844  0.238356  0.074750  1.000000  "
      ]
     },
     "execution_count": 14,
     "metadata": {},
     "output_type": "execute_result"
    }
   ],
   "source": [
    "#estudo de cada variável com as outras e assim saber quais as variáveis mais relevantes para construir o modelo\n",
    "df.corr()"
   ]
  },
  {
   "cell_type": "code",
   "execution_count": 15,
   "id": "c350e01e",
   "metadata": {},
   "outputs": [],
   "source": [
    "#convertendo e mapeando os strings nas colunas\n",
    "diabetes_map={True:1, False:0}"
   ]
  },
  {
   "cell_type": "code",
   "execution_count": 16,
   "id": "7e8dbd8b",
   "metadata": {},
   "outputs": [],
   "source": [
    "df['diabetes'] = df['diabetes'].map(diabetes_map)"
   ]
  },
  {
   "cell_type": "code",
   "execution_count": 18,
   "id": "1e38088e",
   "metadata": {},
   "outputs": [
    {
     "name": "stdout",
     "output_type": "stream",
     "text": [
      "Número de Casos Verdadeiros: 268 (34.90%)\n",
      "Número de Casos Falsos     : 500 (65.10%)\n"
     ]
    }
   ],
   "source": [
    "#verificando a distribuição dos dados, buscando o equilibrio.\n",
    "num_true = len(df.loc[df['diabetes']==True])\n",
    "num_false = len(df.loc[df['diabetes']==False])\n",
    "print(\"Número de Casos Verdadeiros: {0} ({1:2.2f}%)\".format(num_true, (num_true/ (num_true + num_false)) * 100))\n",
    "print(\"Número de Casos Falsos     : {0} ({1:2.2f}%)\".format(num_false, (num_false/ (num_true + num_false)) * 100))"
   ]
  },
  {
   "cell_type": "code",
   "execution_count": 19,
   "id": "a743ff82",
   "metadata": {},
   "outputs": [],
   "source": [
    "import sklearn as sk"
   ]
  },
  {
   "cell_type": "code",
   "execution_count": 20,
   "id": "082404ef",
   "metadata": {},
   "outputs": [],
   "source": [
    "from sklearn.model_selection import train_test_split"
   ]
  },
  {
   "cell_type": "markdown",
   "id": "7e1b6992",
   "metadata": {},
   "source": [
    "Nesse caso há 9 variáveis preditoras e 1 variável target"
   ]
  },
  {
   "cell_type": "code",
   "execution_count": 21,
   "id": "6e187c75",
   "metadata": {},
   "outputs": [],
   "source": [
    "#variáveis preditoras que serão relacionadas\n",
    "atributos = ['num_preg', 'glucose_conc', 'diastolic_bp', 'thickness', 'insulin', 'bmi', 'diab_pred', 'age']"
   ]
  },
  {
   "cell_type": "code",
   "execution_count": 22,
   "id": "fcb61422",
   "metadata": {},
   "outputs": [],
   "source": [
    "#variavel target\n",
    "atrib_prev = ['diabetes']"
   ]
  },
  {
   "cell_type": "code",
   "execution_count": 29,
   "id": "b6dbb23f",
   "metadata": {},
   "outputs": [],
   "source": [
    "#criando os objetos que receberão os dados de treinamento\n",
    "X= df[atributos].values\n",
    "Y=df[atrib_prev].values"
   ]
  },
  {
   "cell_type": "code",
   "execution_count": 30,
   "id": "09f9ba93",
   "metadata": {},
   "outputs": [],
   "source": [
    "#critério para fazer a divisão dos dados\n",
    "split_test_size = 0.30"
   ]
  },
  {
   "cell_type": "code",
   "execution_count": 33,
   "id": "b46a9237",
   "metadata": {},
   "outputs": [],
   "source": [
    "#ddos de treinamento\n",
    "X_treino, X_teste, Y_treino, Y_teste = train_test_split(X,Y, test_size= split_test_size, random_state=101)"
   ]
  },
  {
   "cell_type": "markdown",
   "id": "59bfa3aa",
   "metadata": {},
   "source": [
    "VErificando o Split"
   ]
  },
  {
   "cell_type": "code",
   "execution_count": 34,
   "id": "48afe405",
   "metadata": {},
   "outputs": [
    {
     "name": "stdout",
     "output_type": "stream",
     "text": [
      "Original True : 268 (34.90%)\n",
      "Original False : 500 (65.10%)\n",
      "\n",
      "Training True : 187 (34.82%)\n",
      "Training False : 350 (65.18%)\n",
      "\n",
      "Test True : 81 (35.06%)\n",
      "Test False : 150 (64.94%)\n"
     ]
    }
   ],
   "source": [
    "print(\"Original True : {0} ({1:0.2f}%)\".format(len(df.loc[df['diabetes'] == 1]), \n",
    "                                               (len(df.loc[df['diabetes'] ==1])/len(df.index) * 100)))\n",
    "\n",
    "print(\"Original False : {0} ({1:0.2f}%)\".format(len(df.loc[df['diabetes'] == 0]), \n",
    "                                               (len(df.loc[df['diabetes'] == 0])/len(df.index) * 100)))\n",
    "print(\"\")\n",
    "print(\"Training True : {0} ({1:0.2f}%)\".format(len(Y_treino[Y_treino[:] == 1]), \n",
    "                                               (len(Y_treino[Y_treino[:] == 1])/len(Y_treino) * 100)))\n",
    "\n",
    "print(\"Training False : {0} ({1:0.2f}%)\".format(len(Y_treino[Y_treino[:] == 0]), \n",
    "                                               (len(Y_treino[Y_treino[:] == 0])/len(Y_treino) * 100)))\n",
    "print(\"\")\n",
    "print(\"Test True : {0} ({1:0.2f}%)\".format(len(Y_teste[Y_teste[:] == 1]), \n",
    "                                               (len(Y_teste[Y_teste[:] == 1])/len(Y_teste) * 100)))\n",
    "\n",
    "print(\"Test False : {0} ({1:0.2f}%)\".format(len(Y_teste[Y_teste[:] == 0]), \n",
    "                                               (len(Y_teste[Y_teste[:] == 0])/len(Y_teste) * 100)))"
   ]
  },
  {
   "cell_type": "code",
   "execution_count": 35,
   "id": "a32a55c8",
   "metadata": {},
   "outputs": [
    {
     "data": {
      "text/plain": [
       "False"
      ]
     },
     "execution_count": 35,
     "metadata": {},
     "output_type": "execute_result"
    }
   ],
   "source": [
    "#nova verificação se ocorre algum valor nulo\n",
    "df.isnull().values.any()"
   ]
  },
  {
   "cell_type": "code",
   "execution_count": 36,
   "id": "c0b9c967",
   "metadata": {},
   "outputs": [
    {
     "name": "stdout",
     "output_type": "stream",
     "text": [
      "# Linhas no dataframe 768\n",
      "# Linhas missing glucose_conc: 5\n",
      "# Linhas missing diastolic_bp: 35\n",
      "# Linhas missing thickness: 227\n",
      "# Linhas missing insulin: 374\n",
      "# Linhas missing bmi: 11\n",
      "# Linhas missing age: 0\n"
     ]
    }
   ],
   "source": [
    "#explorando mais os dados.\n",
    "print(\"# Linhas no dataframe {0}\".format(len(df)))\n",
    "print(\"# Linhas missing glucose_conc: {0}\".format(len(df.loc[df['glucose_conc'] == 0])))\n",
    "print(\"# Linhas missing diastolic_bp: {0}\".format(len(df.loc[df['diastolic_bp'] == 0])))\n",
    "print(\"# Linhas missing thickness: {0}\".format(len(df.loc[df['thickness'] == 0])))\n",
    "print(\"# Linhas missing insulin: {0}\".format(len(df.loc[df['insulin'] == 0])))\n",
    "print(\"# Linhas missing bmi: {0}\".format(len(df.loc[df['bmi'] == 0])))\n",
    "print(\"# Linhas missing age: {0}\".format(len(df.loc[df['age'] == 0])))"
   ]
  },
  {
   "cell_type": "markdown",
   "id": "329ebeba",
   "metadata": {},
   "source": [
    "TRatamento do dados Missing - Input"
   ]
  },
  {
   "cell_type": "code",
   "execution_count": 39,
   "id": "325b11b8",
   "metadata": {},
   "outputs": [],
   "source": [
    "from sklearn.impute import SimpleImputer"
   ]
  },
  {
   "cell_type": "code",
   "execution_count": 41,
   "id": "712d00ad",
   "metadata": {},
   "outputs": [],
   "source": [
    "preenche_0 = SimpleImputer(missing_values = 0, strategy = \"mean\")\n",
    "\n",
    "#substituindo os valores zerados pela media dos dados, uma boa estratégia \n",
    "X_treino = preenche_0.fit_transform(X_treino)\n",
    "X_teste = preenche_0.fit_transform(X_teste)"
   ]
  },
  {
   "cell_type": "markdown",
   "id": "79f6636b",
   "metadata": {},
   "source": [
    "Agora é o treinamento"
   ]
  },
  {
   "cell_type": "code",
   "execution_count": 42,
   "id": "4c433f84",
   "metadata": {},
   "outputs": [],
   "source": [
    "#Utilizando o Naive-bayes\n",
    "from sklearn.naive_bayes import GaussianNB"
   ]
  },
  {
   "cell_type": "code",
   "execution_count": 43,
   "id": "93b93cf6",
   "metadata": {},
   "outputs": [],
   "source": [
    "modelo_v1 = GaussianNB()"
   ]
  },
  {
   "cell_type": "code",
   "execution_count": 44,
   "id": "bdd1e766",
   "metadata": {},
   "outputs": [
    {
     "data": {
      "text/plain": [
       "GaussianNB()"
      ]
     },
     "execution_count": 44,
     "metadata": {},
     "output_type": "execute_result"
    }
   ],
   "source": [
    "modelo_v1.fit(X_treino, Y_treino.ravel())"
   ]
  },
  {
   "cell_type": "markdown",
   "id": "cb5c32b3",
   "metadata": {},
   "source": [
    "VErificando a acuracia"
   ]
  },
  {
   "cell_type": "code",
   "execution_count": 45,
   "id": "75305556",
   "metadata": {},
   "outputs": [],
   "source": [
    "from sklearn import metrics"
   ]
  },
  {
   "cell_type": "code",
   "execution_count": 51,
   "id": "8df90774",
   "metadata": {},
   "outputs": [],
   "source": [
    "nb_predict_train = modelo_v1.predict(X_treino)\n",
    "nb_predict_test = modelo_v1.predict(X_teste)"
   ]
  },
  {
   "cell_type": "code",
   "execution_count": 47,
   "id": "310a5291",
   "metadata": {},
   "outputs": [
    {
     "name": "stdout",
     "output_type": "stream",
     "text": [
      "Exatidão (Accuracy): 0.756052\n",
      "\n"
     ]
    }
   ],
   "source": [
    "print(\"Exatidão (Accuracy): {0:4f}\".format(metrics.accuracy_score(Y_treino,nb_predict_train)))\n",
    "print()"
   ]
  },
  {
   "cell_type": "code",
   "execution_count": 52,
   "id": "c242b873",
   "metadata": {},
   "outputs": [
    {
     "name": "stdout",
     "output_type": "stream",
     "text": [
      "Exatidão (Accuracy): 0.7576\n",
      "\n"
     ]
    }
   ],
   "source": [
    "print(\"Exatidão (Accuracy): {0:.4f}\".format(metrics.accuracy_score(Y_teste, nb_predict_test)))\n",
    "print()"
   ]
  },
  {
   "cell_type": "markdown",
   "id": "ef3622a5",
   "metadata": {},
   "source": [
    "Criando as matrizes de confusão e analise da metrica"
   ]
  },
  {
   "cell_type": "code",
   "execution_count": 53,
   "id": "1e696fcf",
   "metadata": {},
   "outputs": [],
   "source": [
    "from IPython.display import Image"
   ]
  },
  {
   "cell_type": "code",
   "execution_count": 55,
   "id": "a426e648",
   "metadata": {},
   "outputs": [
    {
     "name": "stdout",
     "output_type": "stream",
     "text": [
      "Confusion Matrix\n",
      "[[ 50  31]\n",
      " [ 25 125]]\n",
      " \n",
      "Classification Report\n",
      "              precision    recall  f1-score   support\n",
      "\n",
      "           1       0.67      0.62      0.64        81\n",
      "           0       0.80      0.83      0.82       150\n",
      "\n",
      "    accuracy                           0.76       231\n",
      "   macro avg       0.73      0.73      0.73       231\n",
      "weighted avg       0.75      0.76      0.76       231\n",
      "\n"
     ]
    }
   ],
   "source": [
    "print(\"Confusion Matrix\")\n",
    "\n",
    "print(\"{0}\".format(metrics.confusion_matrix(Y_teste,nb_predict_test, labels = [1,0])))\n",
    "print(\" \")      \n",
    "\n",
    "print(\"Classification Report\")\n",
    "print(metrics.classification_report(Y_teste,nb_predict_test, labels = [1,0]))"
   ]
  },
  {
   "cell_type": "markdown",
   "id": "3ccc494d",
   "metadata": {},
   "source": [
    "Otimizando o modelo com RandomForest"
   ]
  },
  {
   "cell_type": "code",
   "execution_count": 56,
   "id": "81587d55",
   "metadata": {},
   "outputs": [],
   "source": [
    "from sklearn.ensemble import RandomForestClassifier"
   ]
  },
  {
   "cell_type": "code",
   "execution_count": 57,
   "id": "2e04e21f",
   "metadata": {},
   "outputs": [
    {
     "data": {
      "text/plain": [
       "RandomForestClassifier(random_state=101)"
      ]
     },
     "execution_count": 57,
     "metadata": {},
     "output_type": "execute_result"
    }
   ],
   "source": [
    "modelo_v2 = RandomForestClassifier(random_state = 101)\n",
    "modelo_v2.fit(X_treino, Y_treino.ravel())"
   ]
  },
  {
   "cell_type": "code",
   "execution_count": 59,
   "id": "97ad581e",
   "metadata": {},
   "outputs": [
    {
     "name": "stdout",
     "output_type": "stream",
     "text": [
      "Acurácia:1.000000\n"
     ]
    }
   ],
   "source": [
    "#verificação dos dados de treino\n",
    "rf_predict_train = modelo_v2.predict(X_treino)\n",
    "print(\"Acurácia:{0:4f}\".format(metrics.accuracy_score(Y_treino,rf_predict_train)))"
   ]
  },
  {
   "cell_type": "code",
   "execution_count": 62,
   "id": "9fa9ad72",
   "metadata": {},
   "outputs": [
    {
     "name": "stdout",
     "output_type": "stream",
     "text": [
      "Acurácia:0.792208\n",
      " \n",
      "Classification Report\n",
      "              precision    recall  f1-score   support\n",
      "\n",
      "           1       0.71      0.69      0.70        81\n",
      "           0       0.84      0.85      0.84       150\n",
      "\n",
      "    accuracy                           0.79       231\n",
      "   macro avg       0.77      0.77      0.77       231\n",
      "weighted avg       0.79      0.79      0.79       231\n",
      "\n"
     ]
    }
   ],
   "source": [
    "rf_predict_test = modelo_v2.predict(X_teste)\n",
    "print(\"Acurácia:{0:4f}\".format(metrics.accuracy_score(Y_teste,rf_predict_test)))\n",
    "print(\" \")\n",
    "\n",
    "print(\"Classification Report\")\n",
    "print(metrics.classification_report(Y_teste,rf_predict_test, labels = [1,0]))"
   ]
  },
  {
   "cell_type": "markdown",
   "id": "f2e6eb0d",
   "metadata": {},
   "source": [
    "Terinamento com Regressão Logistica"
   ]
  },
  {
   "cell_type": "code",
   "execution_count": 64,
   "id": "9cde1861",
   "metadata": {},
   "outputs": [],
   "source": [
    "from sklearn.linear_model import LogisticRegression"
   ]
  },
  {
   "cell_type": "code",
   "execution_count": 66,
   "id": "1be87cb0",
   "metadata": {},
   "outputs": [],
   "source": [
    "modelo_v3 = LogisticRegression(C=0.7, random_state = 101, max_iter = 1000)\n",
    "modelo_v3.fit(X_treino, Y_treino.ravel())\n",
    "lr_predict_test = modelo_v3.predict(X_teste)"
   ]
  },
  {
   "cell_type": "code",
   "execution_count": 67,
   "id": "5eb5ca75",
   "metadata": {},
   "outputs": [
    {
     "name": "stdout",
     "output_type": "stream",
     "text": [
      "Exatidão (Accuracy): 0.7749\n",
      "\n",
      "Classification Report\n",
      "              precision    recall  f1-score   support\n",
      "\n",
      "           1       0.72      0.59      0.65        81\n",
      "           0       0.80      0.87      0.83       150\n",
      "\n",
      "    accuracy                           0.77       231\n",
      "   macro avg       0.76      0.73      0.74       231\n",
      "weighted avg       0.77      0.77      0.77       231\n",
      "\n"
     ]
    }
   ],
   "source": [
    "print(\"Exatidão (Accuracy): {0:.4f}\".format(metrics.accuracy_score(Y_teste, lr_predict_test)))\n",
    "print()\n",
    "print(\"Classification Report\")\n",
    "print(metrics.classification_report(Y_teste, lr_predict_test, labels = [1, 0]))"
   ]
  },
  {
   "cell_type": "code",
   "execution_count": 68,
   "id": "e4092929",
   "metadata": {},
   "outputs": [],
   "source": [
    "import pickle"
   ]
  },
  {
   "cell_type": "markdown",
   "id": "39549c0a",
   "metadata": {},
   "source": [
    "fazendo previsões"
   ]
  },
  {
   "cell_type": "code",
   "execution_count": 69,
   "id": "17bd9857",
   "metadata": {},
   "outputs": [],
   "source": [
    "filename= 'modelo_treinado_v3.sav'\n",
    "pickle.dump(modelo_v3, open(filename, 'wb'))"
   ]
  },
  {
   "cell_type": "code",
   "execution_count": 75,
   "id": "7e31e81a",
   "metadata": {},
   "outputs": [
    {
     "name": "stdout",
     "output_type": "stream",
     "text": [
      "[1]\n",
      "[0]\n"
     ]
    }
   ],
   "source": [
    "#carregando os dados do modelo e fazendo previsão com o novos conjuntos de dados\n",
    "loaded_model = pickle.load(open(filename,'rb'))\n",
    "resultado1 = loaded_model.predict(X_teste[15].reshape(1,-1))\n",
    "resultado2 = loaded_model.predict(X_teste[18].reshape(1,-1))\n",
    "\n",
    "print(resultado1)\n",
    "print(resultado2)"
   ]
  },
  {
   "cell_type": "code",
   "execution_count": null,
   "id": "9ac8b54e",
   "metadata": {},
   "outputs": [],
   "source": []
  }
 ],
 "metadata": {
  "kernelspec": {
   "display_name": "Python 3 (ipykernel)",
   "language": "python",
   "name": "python3"
  },
  "language_info": {
   "codemirror_mode": {
    "name": "ipython",
    "version": 3
   },
   "file_extension": ".py",
   "mimetype": "text/x-python",
   "name": "python",
   "nbconvert_exporter": "python",
   "pygments_lexer": "ipython3",
   "version": "3.9.7"
  }
 },
 "nbformat": 4,
 "nbformat_minor": 5
}
